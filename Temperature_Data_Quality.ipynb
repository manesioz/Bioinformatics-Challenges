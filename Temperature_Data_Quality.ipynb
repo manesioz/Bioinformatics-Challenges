{
  "nbformat": 4,
  "nbformat_minor": 0,
  "metadata": {
    "colab": {
      "name": "Temperature Data Quality.ipynb",
      "provenance": [],
      "collapsed_sections": [],
      "include_colab_link": true
    },
    "kernelspec": {
      "name": "python3",
      "display_name": "Python 3"
    }
  },
  "cells": [
    {
      "cell_type": "markdown",
      "metadata": {
        "id": "view-in-github",
        "colab_type": "text"
      },
      "source": [
        "<a href=\"https://colab.research.google.com/github/manesioz/Bioinformatics-Challenges/blob/master/Temperature_Data_Quality.ipynb\" target=\"_parent\"><img src=\"https://colab.research.google.com/assets/colab-badge.svg\" alt=\"Open In Colab\"/></a>"
      ]
    },
    {
      "cell_type": "code",
      "metadata": {
        "id": "JC5ze0kEOW9y",
        "colab_type": "code",
        "colab": {}
      },
      "source": [
        "%%capture\n",
        "!pip install datalab \n",
        "\n",
        "from google.cloud import bigquery\n",
        "from google.colab import auth\n",
        "\n",
        "import branca\n",
        "import matplotlib.pyplot as plt\n",
        "import matplotlib.dates as mdates\n",
        "\n",
        "import IPython\n",
        "import folium \n",
        "from folium.plugins import HeatMap\n",
        "from folium import IFrame\n",
        "import datetime\n",
        "import numpy as np\n",
        "import pandas as pd\n",
        "\n",
        "import datalab.bigquery as bq\n",
        "%matplotlib inline\n",
        "plt.rcParams['figure.figsize'] = [12, 10]"
      ],
      "execution_count": 0,
      "outputs": []
    },
    {
      "cell_type": "code",
      "metadata": {
        "id": "BBaH19Q4OwQm",
        "colab_type": "code",
        "colab": {}
      },
      "source": [
        "_ = auth.authenticate_user()\n",
        "client = bigquery.Client(project='geotab-bi')\n",
        "job_config = bigquery.QueryJobConfig()\n",
        "job_config.use_legacy_sql = False"
      ],
      "execution_count": 0,
      "outputs": []
    },
    {
      "cell_type": "markdown",
      "metadata": {
        "id": "OWez4W8Afbg1",
        "colab_type": "text"
      },
      "source": [
        "### Problem \n",
        "\n",
        "As you can see below, there are *many* instances where MinTemperature = MaxTemperature despite there being many Devices and Records for some given Make/Model/Year/Engine combination on a given day. The following queries and visualizations will attempt to narrow down the scope of the issue.    "
      ]
    },
    {
      "cell_type": "code",
      "metadata": {
        "id": "oi-khr36O6QU",
        "colab_type": "code",
        "colab": {}
      },
      "source": [
        "#This is the raw data - use this query as a starting point\n",
        "SQL = \"\"\"\n",
        "CREATE TEMP FUNCTION f_GeohashEncode(lat FLOAT64, lon FLOAT64, precision INT64)\n",
        "            RETURNS STRING\n",
        "           LANGUAGE js AS \"return Geohash.encode(lat, lon, precision);\"\n",
        "            OPTIONS (library=\"gs://geotab-udfs/bi_geohash.js\");\n",
        "\n",
        "with t_pull_temps as (\n",
        "   select ti.HardwareId, vd.Make, vd.Model, vd.Year, vd.Engine\n",
        "        , ti.DateTime, ti.Latitude, ti.Longitude, ti.Temperature, vh.Vin\n",
        "--      from `geotab-bi.Staging_Weather.TestTemperatureStatusRollingWindow` ti\n",
        "     from (select HardwareId, Datetime, Latitude, Longitude, Value as Temperature\n",
        "             from `geotab-bigdata.InterpolatedData.Status`\n",
        "            where code = 53 and _partitiontime = '2018-05-01' ) ti \n",
        "     left outer join `geotab-bigdata.Vin.VinHistory` vh\n",
        "       on vh.HardwareId = ti.HardwareId\n",
        "      and (ti.DateTime between vh.DateFrom and vh.DateTo or (ti.DateTime >= vh.DateFrom and vh.DateTo is null))\n",
        "     left outer join `geotab-bigdata.Vin.VinDecode` vd\n",
        "       on vh.Vin = vd.Vin \n",
        ")\n",
        ", data as (\n",
        "    select Make, Model, Year, Engine\n",
        "        , avg(Temperature) as AvgTemperature\n",
        "        , min(Temperature) as MinTemperature\n",
        "        , max(Temperature) as MaxTemperature\n",
        "        , count(1) as NumRecords\n",
        "        , array_agg(distinct HardwareId) as Devices\n",
        "        , count(distinct HardwareId) as NumDevices\n",
        "     from t_pull_temps\n",
        "    group by Make, Model, Year, Engine\n",
        "    having  MinTemperature = MaxTemperature and NumDevices > 1 \n",
        ")\n",
        "select * \n",
        "  from data \n",
        "\n",
        "\"\"\"\n",
        "\n",
        "df = client.query(SQL).to_dataframe()"
      ],
      "execution_count": 0,
      "outputs": []
    },
    {
      "cell_type": "markdown",
      "metadata": {
        "id": "DmmtRd90sDn9",
        "colab_type": "text"
      },
      "source": [
        "### Raw data: \n",
        "\n",
        "(Note that MinTemperature = MaxTemperature despite the many readings and devices per make/model/year/engine combo)  "
      ]
    },
    {
      "cell_type": "code",
      "metadata": {
        "id": "GdYIFlLzPGBR",
        "colab_type": "code",
        "outputId": "37f24b9e-6eaf-42f6-c9ce-630e243f3630",
        "colab": {
          "base_uri": "https://localhost:8080/",
          "height": 200
        }
      },
      "source": [
        "df.tail()"
      ],
      "execution_count": 0,
      "outputs": [
        {
          "output_type": "execute_result",
          "data": {
            "text/html": [
              "<div>\n",
              "<style scoped>\n",
              "    .dataframe tbody tr th:only-of-type {\n",
              "        vertical-align: middle;\n",
              "    }\n",
              "\n",
              "    .dataframe tbody tr th {\n",
              "        vertical-align: top;\n",
              "    }\n",
              "\n",
              "    .dataframe thead th {\n",
              "        text-align: right;\n",
              "    }\n",
              "</style>\n",
              "<table border=\"1\" class=\"dataframe\">\n",
              "  <thead>\n",
              "    <tr style=\"text-align: right;\">\n",
              "      <th></th>\n",
              "      <th>Make</th>\n",
              "      <th>Model</th>\n",
              "      <th>Year</th>\n",
              "      <th>Engine</th>\n",
              "      <th>AvgTemperature</th>\n",
              "      <th>MinTemperature</th>\n",
              "      <th>MaxTemperature</th>\n",
              "      <th>NumRecords</th>\n",
              "      <th>Devices</th>\n",
              "      <th>NumDevices</th>\n",
              "    </tr>\n",
              "  </thead>\n",
              "  <tbody>\n",
              "    <tr>\n",
              "      <th>37</th>\n",
              "      <td>International</td>\n",
              "      <td>9400i</td>\n",
              "      <td>2007</td>\n",
              "      <td>915 CID Diesel Signature 600, ISX, AHD Cummins</td>\n",
              "      <td>22.0</td>\n",
              "      <td>22.0</td>\n",
              "      <td>22.0</td>\n",
              "      <td>12</td>\n",
              "      <td>[551943553, 552024506, 551779751]</td>\n",
              "      <td>3</td>\n",
              "    </tr>\n",
              "    <tr>\n",
              "      <th>38</th>\n",
              "      <td>Nissan</td>\n",
              "      <td>Altima</td>\n",
              "      <td>2011</td>\n",
              "      <td>2.5L HEV</td>\n",
              "      <td>15.0</td>\n",
              "      <td>15.0</td>\n",
              "      <td>15.0</td>\n",
              "      <td>5</td>\n",
              "      <td>[551436076, 550675723]</td>\n",
              "      <td>2</td>\n",
              "    </tr>\n",
              "    <tr>\n",
              "      <th>39</th>\n",
              "      <td>Ford</td>\n",
              "      <td>F-Super Duty</td>\n",
              "      <td>2005</td>\n",
              "      <td>5.9L I-6 Diesel Cummins (230 HP)</td>\n",
              "      <td>22.0</td>\n",
              "      <td>22.0</td>\n",
              "      <td>22.0</td>\n",
              "      <td>6</td>\n",
              "      <td>[551385585, 550910600, 551314022]</td>\n",
              "      <td>3</td>\n",
              "    </tr>\n",
              "    <tr>\n",
              "      <th>40</th>\n",
              "      <td>International</td>\n",
              "      <td>8600</td>\n",
              "      <td>2003</td>\n",
              "      <td>10.8L I-6 Diesel Cummins</td>\n",
              "      <td>22.0</td>\n",
              "      <td>22.0</td>\n",
              "      <td>22.0</td>\n",
              "      <td>12</td>\n",
              "      <td>[552338997, 552385838, 550975656]</td>\n",
              "      <td>3</td>\n",
              "    </tr>\n",
              "    <tr>\n",
              "      <th>41</th>\n",
              "      <td>Ford</td>\n",
              "      <td>F-Super Duty</td>\n",
              "      <td>2005</td>\n",
              "      <td>5.9L I-6 Diesel Cummins (200 HP)</td>\n",
              "      <td>22.0</td>\n",
              "      <td>22.0</td>\n",
              "      <td>22.0</td>\n",
              "      <td>7</td>\n",
              "      <td>[552201055, 550892653]</td>\n",
              "      <td>2</td>\n",
              "    </tr>\n",
              "  </tbody>\n",
              "</table>\n",
              "</div>"
            ],
            "text/plain": [
              "             Make         Model  ...                            Devices NumDevices\n",
              "37  International         9400i  ...  [551943553, 552024506, 551779751]          3\n",
              "38         Nissan        Altima  ...             [551436076, 550675723]          2\n",
              "39           Ford  F-Super Duty  ...  [551385585, 550910600, 551314022]          3\n",
              "40  International          8600  ...  [552338997, 552385838, 550975656]          3\n",
              "41           Ford  F-Super Duty  ...             [552201055, 550892653]          2\n",
              "\n",
              "[5 rows x 10 columns]"
            ]
          },
          "metadata": {
            "tags": []
          },
          "execution_count": 5
        }
      ]
    },
    {
      "cell_type": "markdown",
      "metadata": {
        "id": "JRsC7MN3dham",
        "colab_type": "text"
      },
      "source": [
        "### Number of Problematic Devices per Make "
      ]
    },
    {
      "cell_type": "code",
      "metadata": {
        "id": "hWoZ5w8Ac86R",
        "colab_type": "code",
        "colab": {}
      },
      "source": [
        "SQL = '''\n",
        "CREATE TEMP FUNCTION f_GeohashEncode(lat FLOAT64, lon FLOAT64, precision INT64)\n",
        "            RETURNS STRING\n",
        "           LANGUAGE js AS \"return Geohash.encode(lat, lon, precision);\"\n",
        "            OPTIONS (library=\"gs://geotab-udfs/bi_geohash.js\");\n",
        "\n",
        "with t_pull_temps as (\n",
        "   select ti.HardwareId, vd.Make, vd.Model, vd.Year, vd.Engine\n",
        "        , ti.DateTime, ti.Latitude, ti.Longitude, ti.Temperature, vh.Vin, DATETIME_TRUNC(cast (DateTime as DATETIME), Day) as Day\n",
        "     from (select HardwareId, Datetime, Latitude, Longitude, Value as Temperature\n",
        "             from `geotab-bigdata.InterpolatedData.Status`\n",
        "            where code = 53 and _partitiontime > '2019-01-01') ti \n",
        "     left outer join `geotab-bigdata.Vin.VinHistory` vh\n",
        "       on vh.HardwareId = ti.HardwareId\n",
        "      and (ti.DateTime between vh.DateFrom and vh.DateTo or (ti.DateTime >= vh.DateFrom and vh.DateTo is null))\n",
        "     left outer join `geotab-bigdata.Vin.VinDecode` vd\n",
        "       on vh.Vin = vd.Vin \n",
        ")\n",
        ", data as (\n",
        "    select Make, Model, Year, Engine\n",
        "        , min(Temperature) as MinTemperature\n",
        "        , max(Temperature) as MaxTemperature\n",
        "        , count(1) as NumRecords\n",
        "        , array_agg(distinct HardwareId) as Devices\n",
        "        , count(distinct HardwareId) as NumDevices\n",
        "     from t_pull_temps\n",
        "    group by Make, Model, Year, Engine\n",
        "    having  MinTemperature = MaxTemperature and NumDevices > 1 and NumRecords > 1 \n",
        ")\n",
        ", inter as (\n",
        "select distinct Make, HardwareId\n",
        "  from data \n",
        " cross join unnest(Devices) as HardwareId\n",
        ") \n",
        "select Make, count(HardwareId) as NumDevicesPerMake\n",
        "  from inter \n",
        " group by Make \n",
        " order by NumDevicesPerMake\n",
        "'''\n",
        "df_device_per_make = client.query(SQL).to_dataframe()"
      ],
      "execution_count": 0,
      "outputs": []
    },
    {
      "cell_type": "code",
      "metadata": {
        "id": "zkPYTwM3c8wX",
        "colab_type": "code",
        "outputId": "6cc48a88-bc58-41ff-d0a8-0122bc2b4e20",
        "colab": {
          "base_uri": "https://localhost:8080/",
          "height": 200
        }
      },
      "source": [
        "df_device_per_make.tail()"
      ],
      "execution_count": 0,
      "outputs": [
        {
          "output_type": "execute_result",
          "data": {
            "text/html": [
              "<div>\n",
              "<style scoped>\n",
              "    .dataframe tbody tr th:only-of-type {\n",
              "        vertical-align: middle;\n",
              "    }\n",
              "\n",
              "    .dataframe tbody tr th {\n",
              "        vertical-align: top;\n",
              "    }\n",
              "\n",
              "    .dataframe thead th {\n",
              "        text-align: right;\n",
              "    }\n",
              "</style>\n",
              "<table border=\"1\" class=\"dataframe\">\n",
              "  <thead>\n",
              "    <tr style=\"text-align: right;\">\n",
              "      <th></th>\n",
              "      <th>Make</th>\n",
              "      <th>NumDevicesPerMake</th>\n",
              "    </tr>\n",
              "  </thead>\n",
              "  <tbody>\n",
              "    <tr>\n",
              "      <th>10</th>\n",
              "      <td>Freightliner</td>\n",
              "      <td>30</td>\n",
              "    </tr>\n",
              "    <tr>\n",
              "      <th>11</th>\n",
              "      <td>Mitsubishi Fuso</td>\n",
              "      <td>90</td>\n",
              "    </tr>\n",
              "    <tr>\n",
              "      <th>12</th>\n",
              "      <td>IC</td>\n",
              "      <td>163</td>\n",
              "    </tr>\n",
              "    <tr>\n",
              "      <th>13</th>\n",
              "      <td>Ford</td>\n",
              "      <td>390</td>\n",
              "    </tr>\n",
              "    <tr>\n",
              "      <th>14</th>\n",
              "      <td>Freightliner Custom Chassis</td>\n",
              "      <td>562</td>\n",
              "    </tr>\n",
              "  </tbody>\n",
              "</table>\n",
              "</div>"
            ],
            "text/plain": [
              "                           Make  NumDevicesPerMake\n",
              "10                 Freightliner                 30\n",
              "11              Mitsubishi Fuso                 90\n",
              "12                           IC                163\n",
              "13                         Ford                390\n",
              "14  Freightliner Custom Chassis                562"
            ]
          },
          "metadata": {
            "tags": []
          },
          "execution_count": 57
        }
      ]
    },
    {
      "cell_type": "code",
      "metadata": {
        "id": "4AmmZIqLdKn3",
        "colab_type": "code",
        "outputId": "946506dd-efae-4fb3-a4af-7d6bf4a81707",
        "colab": {
          "base_uri": "https://localhost:8080/",
          "height": 769
        }
      },
      "source": [
        "ax = df_device_per_make.plot.bar(x='Make', y='NumDevicesPerMake', rot=0)\n",
        "plt.xticks(rotation=90)\n",
        "plt.title('Vehicle Make vs Number of Problematic Devices')\n",
        "plt.xlabel('Vehicle Make')\n",
        "plt.ylabel('Number of Problematic Devices')"
      ],
      "execution_count": 0,
      "outputs": [
        {
          "output_type": "execute_result",
          "data": {
            "text/plain": [
              "Text(0, 0.5, 'Number of Problematic Devices')"
            ]
          },
          "metadata": {
            "tags": []
          },
          "execution_count": 58
        },
        {
          "output_type": "display_data",
          "data": {
            "image/png": "[encoded data removed]",
            "text/plain": [
              "<Figure size 864x720 with 1 Axes>"
            ]
          },
          "metadata": {
            "tags": []
          }
        }
      ]
    },
    {
      "cell_type": "markdown",
      "metadata": {
        "id": "F0kTGPl4gZVn",
        "colab_type": "text"
      },
      "source": [
        "### Number of Bad Events per Make\n",
        "\n",
        "\n",
        "\n"
      ]
    },
    {
      "cell_type": "code",
      "metadata": {
        "id": "bixtwg_nPHnn",
        "colab_type": "code",
        "colab": {}
      },
      "source": [
        "SQL = '''\n",
        "CREATE TEMP FUNCTION f_GeohashEncode(lat FLOAT64, lon FLOAT64, precision INT64)\n",
        "            RETURNS STRING\n",
        "           LANGUAGE js AS \"return Geohash.encode(lat, lon, precision);\"\n",
        "            OPTIONS (library=\"gs://geotab-udfs/bi_geohash.js\");\n",
        "\n",
        "with t_pull_temps as (\n",
        "   select ti.HardwareId, vd.Make, vd.Model, vd.Year, vd.Engine\n",
        "        , ti.DateTime, ti.Latitude, ti.Longitude, ti.Temperature, vh.Vin, DATETIME_TRUNC(cast (DateTime as DATETIME), Day) as Day\n",
        "     from (select HardwareId, Datetime, Latitude, Longitude, Value as Temperature\n",
        "             from `geotab-bigdata.InterpolatedData.Status`\n",
        "            where code = 53 and _partitiontime > '2019-05-01') ti \n",
        "     left outer join `geotab-bigdata.Vin.VinHistory` vh\n",
        "       on vh.HardwareId = ti.HardwareId\n",
        "      and (ti.DateTime between vh.DateFrom and vh.DateTo or (ti.DateTime >= vh.DateFrom and vh.DateTo is null))\n",
        "     left outer join `geotab-bigdata.Vin.VinDecode` vd\n",
        "       on vh.Vin = vd.Vin \n",
        ")\n",
        ", data as (\n",
        "    select Day, Make, Model, Year, Engine\n",
        "        , min(Temperature) as MinTemperature\n",
        "        , max(Temperature) as MaxTemperature\n",
        "        , count(1) as NumRecords\n",
        "        , array_agg(distinct HardwareId) as Devices\n",
        "        , count(distinct HardwareId) as NumDevices\n",
        "     from t_pull_temps\n",
        "    group by Day, Make, Model, Year, Engine\n",
        "    having  MinTemperature = MaxTemperature and NumDevices > 1 and NumRecords > 1 \n",
        ")\n",
        "\n",
        "select Make, sum(NumRecords) as NumBadRecordsPerMake\n",
        "  from data \n",
        " group by Make\n",
        "having NumBadRecordsPerMake > 10 \n",
        " order by NumBadRecordsPerMake\n",
        " \n",
        " ''' \n",
        "df_new = client.query(SQL).to_dataframe()"
      ],
      "execution_count": 0,
      "outputs": []
    },
    {
      "cell_type": "code",
      "metadata": {
        "id": "viSiAoTSPHp5",
        "colab_type": "code",
        "outputId": "84d670f9-8ba8-4061-dd7e-e11eefb686b8",
        "colab": {
          "base_uri": "https://localhost:8080/",
          "height": 200
        }
      },
      "source": [
        "df_new.tail()"
      ],
      "execution_count": 0,
      "outputs": [
        {
          "output_type": "execute_result",
          "data": {
            "text/html": [
              "<div>\n",
              "<style scoped>\n",
              "    .dataframe tbody tr th:only-of-type {\n",
              "        vertical-align: middle;\n",
              "    }\n",
              "\n",
              "    .dataframe tbody tr th {\n",
              "        vertical-align: top;\n",
              "    }\n",
              "\n",
              "    .dataframe thead th {\n",
              "        text-align: right;\n",
              "    }\n",
              "</style>\n",
              "<table border=\"1\" class=\"dataframe\">\n",
              "  <thead>\n",
              "    <tr style=\"text-align: right;\">\n",
              "      <th></th>\n",
              "      <th>Make</th>\n",
              "      <th>NumBadRecordsPerMake</th>\n",
              "    </tr>\n",
              "  </thead>\n",
              "  <tbody>\n",
              "    <tr>\n",
              "      <th>24</th>\n",
              "      <td>IC</td>\n",
              "      <td>32992</td>\n",
              "    </tr>\n",
              "    <tr>\n",
              "      <th>25</th>\n",
              "      <td>Autocar</td>\n",
              "      <td>39523</td>\n",
              "    </tr>\n",
              "    <tr>\n",
              "      <th>26</th>\n",
              "      <td>International</td>\n",
              "      <td>137471</td>\n",
              "    </tr>\n",
              "    <tr>\n",
              "      <th>27</th>\n",
              "      <td>Ford</td>\n",
              "      <td>196337</td>\n",
              "    </tr>\n",
              "    <tr>\n",
              "      <th>28</th>\n",
              "      <td>Freightliner Custom Chassis</td>\n",
              "      <td>250340</td>\n",
              "    </tr>\n",
              "  </tbody>\n",
              "</table>\n",
              "</div>"
            ],
            "text/plain": [
              "                           Make  NumBadRecordsPerMake\n",
              "24                           IC                 32992\n",
              "25                      Autocar                 39523\n",
              "26                International                137471\n",
              "27                         Ford                196337\n",
              "28  Freightliner Custom Chassis                250340"
            ]
          },
          "metadata": {
            "tags": []
          },
          "execution_count": 48
        }
      ]
    },
    {
      "cell_type": "code",
      "metadata": {
        "id": "hG9vMcJKnn7e",
        "colab_type": "code",
        "outputId": "be6e537e-852a-4a17-f731-0d4370499af1",
        "colab": {
          "base_uri": "https://localhost:8080/",
          "height": 769
        }
      },
      "source": [
        "ax = df_new.plot.bar(x='Make', y='NumBadRecordsPerMake', rot=0)\n",
        "plt.xticks(rotation=90)\n",
        "plt.title('Vehicle Make vs Number Bad Data Events')\n",
        "plt.xlabel('Vehicle Make')\n",
        "plt.ylabel('Number of Bad Data Events')"
      ],
      "execution_count": 0,
      "outputs": [
        {
          "output_type": "execute_result",
          "data": {
            "text/plain": [
              "Text(0, 0.5, 'Number of Bad Data Events')"
            ]
          },
          "metadata": {
            "tags": []
          },
          "execution_count": 49
        },
        {
          "output_type": "display_data",
          "data": {
            "image/png": "[encoded data removed]",
            "text/plain": [
              "<Figure size 864x720 with 1 Axes>"
            ]
          },
          "metadata": {
            "tags": []
          }
        }
      ]
    },
    {
      "cell_type": "markdown",
      "metadata": {
        "id": "3Jvel8Lgr2Gv",
        "colab_type": "text"
      },
      "source": [
        "NOTE: 'Bad Data Events' are defined as events where MinTemperature = MaxTemperature despite there being multiple devices and many temperature records. \n",
        "\n",
        "\n",
        "\n",
        "\n"
      ]
    },
    {
      "cell_type": "markdown",
      "metadata": {
        "id": "i_tAC95x1CHo",
        "colab_type": "text"
      },
      "source": [
        "### Breakdown of specific voltage values and frequency "
      ]
    },
    {
      "cell_type": "code",
      "metadata": {
        "id": "I615N8xQ1IYe",
        "colab_type": "code",
        "colab": {}
      },
      "source": [
        "SQL = '''\n",
        "CREATE TEMP FUNCTION f_GeohashEncode(lat FLOAT64, lon FLOAT64, precision INT64)\n",
        "            RETURNS STRING\n",
        "           LANGUAGE js AS \"return Geohash.encode(lat, lon, precision);\"\n",
        "            OPTIONS (library=\"gs://geotab-udfs/bi_geohash.js\");\n",
        "\n",
        "with t_pull_temps as (\n",
        "   select ti.HardwareId, vd.Make, vd.Model, vd.Year, vd.Engine\n",
        "        , ti.DateTime, ti.Latitude, ti.Longitude, ti.Temperature, vh.Vin, DATETIME_TRUNC(cast (DateTime as DATETIME), Day) as Day\n",
        "--      from `geotab-bi.Staging_Weather.TestTemperatureStatusRollingWindow` ti\n",
        "     from (select HardwareId, Datetime, Latitude, Longitude, Value as Temperature\n",
        "             from `geotab-bigdata.InterpolatedData.Status`\n",
        "            where code = 53 and _partitiontime > '2019-01-01') ti \n",
        "     left outer join `geotab-bigdata.Vin.VinHistory` vh\n",
        "       on vh.HardwareId = ti.HardwareId\n",
        "      and (ti.DateTime between vh.DateFrom and vh.DateTo or (ti.DateTime >= vh.DateFrom and vh.DateTo is null))\n",
        "     left outer join `geotab-bigdata.Vin.VinDecode` vd\n",
        "       on vh.Vin = vd.Vin \n",
        ")\n",
        ", data as (\n",
        "    select Make, Model, Year, Engine\n",
        "--         , avg(Temperature) as AvgTemperature\n",
        "        , min(Temperature) as MinTemperature\n",
        "        , max(Temperature) as MaxTemperature\n",
        "        , count(1) as NumRecords\n",
        "        , array_agg(distinct HardwareId) as Devices\n",
        "        , count(distinct HardwareId) as NumDevices\n",
        "     from t_pull_temps\n",
        "    group by Make, Model, Year, Engine\n",
        "    having  MinTemperature = MaxTemperature and NumDevices > 1 and NumRecords > 1 \n",
        ") \n",
        "select MinTemperature as Temp, sum(NumRecords) as NumBadRecordsPerMake \n",
        "  from data \n",
        " group by Temp\n",
        " order by Temp\n",
        "'''\n",
        "df_values = client.query(SQL).to_dataframe()"
      ],
      "execution_count": 0,
      "outputs": []
    },
    {
      "cell_type": "code",
      "metadata": {
        "id": "chga50-r1TGF",
        "colab_type": "code",
        "outputId": "2e8dae0e-1cbe-4825-d2d9-bcda835b8101",
        "colab": {
          "base_uri": "https://localhost:8080/",
          "height": 200
        }
      },
      "source": [
        "df_values.head()"
      ],
      "execution_count": 0,
      "outputs": [
        {
          "output_type": "execute_result",
          "data": {
            "text/html": [
              "<div>\n",
              "<style scoped>\n",
              "    .dataframe tbody tr th:only-of-type {\n",
              "        vertical-align: middle;\n",
              "    }\n",
              "\n",
              "    .dataframe tbody tr th {\n",
              "        vertical-align: top;\n",
              "    }\n",
              "\n",
              "    .dataframe thead th {\n",
              "        text-align: right;\n",
              "    }\n",
              "</style>\n",
              "<table border=\"1\" class=\"dataframe\">\n",
              "  <thead>\n",
              "    <tr style=\"text-align: right;\">\n",
              "      <th></th>\n",
              "      <th>Temp</th>\n",
              "      <th>NumBadRecordsPerMake</th>\n",
              "    </tr>\n",
              "  </thead>\n",
              "  <tbody>\n",
              "    <tr>\n",
              "      <th>0</th>\n",
              "      <td>-40.0</td>\n",
              "      <td>131148</td>\n",
              "    </tr>\n",
              "    <tr>\n",
              "      <th>1</th>\n",
              "      <td>-36.0</td>\n",
              "      <td>59</td>\n",
              "    </tr>\n",
              "    <tr>\n",
              "      <th>2</th>\n",
              "      <td>-18.0</td>\n",
              "      <td>441</td>\n",
              "    </tr>\n",
              "    <tr>\n",
              "      <th>3</th>\n",
              "      <td>-17.0</td>\n",
              "      <td>196</td>\n",
              "    </tr>\n",
              "    <tr>\n",
              "      <th>4</th>\n",
              "      <td>-16.0</td>\n",
              "      <td>40</td>\n",
              "    </tr>\n",
              "  </tbody>\n",
              "</table>\n",
              "</div>"
            ],
            "text/plain": [
              "   Temp  NumBadRecordsPerMake\n",
              "0 -40.0                131148\n",
              "1 -36.0                    59\n",
              "2 -18.0                   441\n",
              "3 -17.0                   196\n",
              "4 -16.0                    40"
            ]
          },
          "metadata": {
            "tags": []
          },
          "execution_count": 6
        }
      ]
    },
    {
      "cell_type": "code",
      "metadata": {
        "id": "gxZj1kik1s_s",
        "colab_type": "code",
        "outputId": "9fef6b8e-f652-4d45-fd47-a51b7c8eb9fc",
        "colab": {
          "base_uri": "https://localhost:8080/",
          "height": 657
        }
      },
      "source": [
        "ax = df_values.plot.bar(x='Temp', y='NumBadRecordsPerMake', rot=0)\n",
        "plt.xticks(rotation=90)\n",
        "plt.title('Temperature vs Number of Bad Data Records')\n",
        "plt.xlabel('Temperature of Bad Record')\n",
        "plt.ylabel('Number of Bad Data Records')"
      ],
      "execution_count": 0,
      "outputs": [
        {
          "output_type": "execute_result",
          "data": {
            "text/plain": [
              "Text(0, 0.5, 'Number of Bad Data Records')"
            ]
          },
          "metadata": {
            "tags": []
          },
          "execution_count": 7
        },
        {
          "output_type": "display_data",
          "data": {
            "image/png": "[encoded data removed]",
            "text/plain": [
              "<Figure size 864x720 with 1 Axes>"
            ]
          },
          "metadata": {
            "tags": []
          }
        }
      ]
    },
    {
      "cell_type": "markdown",
      "metadata": {
        "id": "as1Qx-FQelhT",
        "colab_type": "text"
      },
      "source": [
        "There seems to be a lot of records returning 215 degrees Celcius, which is wrong because it is extremely high and both the Min and Max temperatures are the same. For other values (like -40 or 22), the value itself may not be wrong, but it is still only returning *one* value despite thousands of records. "
      ]
    },
    {
      "cell_type": "markdown",
      "metadata": {
        "id": "dNDxdjeD1AeZ",
        "colab_type": "text"
      },
      "source": [
        "### Breakdown by Engine Type:  "
      ]
    },
    {
      "cell_type": "code",
      "metadata": {
        "id": "eepkrcU7p_8h",
        "colab_type": "code",
        "colab": {}
      },
      "source": [
        "SQL = '''\n",
        "CREATE TEMP FUNCTION f_GeohashEncode(lat FLOAT64, lon FLOAT64, precision INT64)\n",
        "            RETURNS STRING\n",
        "           LANGUAGE js AS \"return Geohash.encode(lat, lon, precision);\"\n",
        "            OPTIONS (library=\"gs://geotab-udfs/bi_geohash.js\");\n",
        "\n",
        "with t_pull_temps as (\n",
        "   select ti.HardwareId, vd.Make, vd.Model, vd.Year, vd.Engine\n",
        "        , ti.DateTime, ti.Latitude, ti.Longitude, ti.Temperature, vh.Vin, DATETIME_TRUNC(cast (DateTime as DATETIME), Day) as Day\n",
        "     from (select HardwareId, Datetime, Latitude, Longitude, Value as Temperature\n",
        "             from `geotab-bigdata.InterpolatedData.Status`\n",
        "            where code = 53 and _partitiontime > '2019-05-01') ti \n",
        "     left outer join `geotab-bigdata.Vin.VinHistory` vh\n",
        "       on vh.HardwareId = ti.HardwareId\n",
        "      and (ti.DateTime between vh.DateFrom and vh.DateTo or (ti.DateTime >= vh.DateFrom and vh.DateTo is null))\n",
        "     left outer join `geotab-bigdata.Vin.VinDecode` vd\n",
        "       on vh.Vin = vd.Vin \n",
        ")\n",
        ", data as (\n",
        "    select Day, Make, Model, Year, Engine\n",
        "        , min(Temperature) as MinTemperature\n",
        "        , max(Temperature) as MaxTemperature\n",
        "        , count(1) as NumRecords\n",
        "        , array_agg(distinct HardwareId) as Devices\n",
        "        , count(distinct HardwareId) as NumDevices\n",
        "     from t_pull_temps\n",
        "    group by Day, Make, Model, Year, Engine\n",
        "    having  MinTemperature = MaxTemperature and NumDevices > 1 --and 551212594 in unnest(Devices) \n",
        ")\n",
        "\n",
        "select Engine, count(*) as NumRepeat \n",
        "  from data \n",
        " group by Engine\n",
        "having NumRepeat > 10 \n",
        " order by NumRepeat\n",
        "'''\n",
        "df_engine = client.query(SQL).to_dataframe()"
      ],
      "execution_count": 0,
      "outputs": []
    },
    {
      "cell_type": "code",
      "metadata": {
        "id": "WdZ2yiR0p_o6",
        "colab_type": "code",
        "outputId": "43418966-02c9-41b1-e8e1-d424daac18e7",
        "colab": {
          "base_uri": "https://localhost:8080/",
          "height": 200
        }
      },
      "source": [
        "df_engine.tail()"
      ],
      "execution_count": 0,
      "outputs": [
        {
          "output_type": "execute_result",
          "data": {
            "text/html": [
              "<div>\n",
              "<style scoped>\n",
              "    .dataframe tbody tr th:only-of-type {\n",
              "        vertical-align: middle;\n",
              "    }\n",
              "\n",
              "    .dataframe tbody tr th {\n",
              "        vertical-align: top;\n",
              "    }\n",
              "\n",
              "    .dataframe thead th {\n",
              "        text-align: right;\n",
              "    }\n",
              "</style>\n",
              "<table border=\"1\" class=\"dataframe\">\n",
              "  <thead>\n",
              "    <tr style=\"text-align: right;\">\n",
              "      <th></th>\n",
              "      <th>Engine</th>\n",
              "      <th>NumRepeat</th>\n",
              "    </tr>\n",
              "  </thead>\n",
              "  <tbody>\n",
              "    <tr>\n",
              "      <th>28</th>\n",
              "      <td>10.8L I-6 Diesel Cummins</td>\n",
              "      <td>396</td>\n",
              "    </tr>\n",
              "    <tr>\n",
              "      <th>29</th>\n",
              "      <td>915 CID Diesel Signature 600, ISX, AHD Cummins</td>\n",
              "      <td>399</td>\n",
              "    </tr>\n",
              "    <tr>\n",
              "      <th>30</th>\n",
              "      <td>660 CID Diesel ISM Cummins</td>\n",
              "      <td>408</td>\n",
              "    </tr>\n",
              "    <tr>\n",
              "      <th>31</th>\n",
              "      <td>Cummins, ISL HPCR, Diesel, 6 Cyl., 8.9L</td>\n",
              "      <td>428</td>\n",
              "    </tr>\n",
              "    <tr>\n",
              "      <th>32</th>\n",
              "      <td>5.9L I-6 Diesel Cummins ISB</td>\n",
              "      <td>712</td>\n",
              "    </tr>\n",
              "  </tbody>\n",
              "</table>\n",
              "</div>"
            ],
            "text/plain": [
              "                                            Engine  NumRepeat\n",
              "28                        10.8L I-6 Diesel Cummins        396\n",
              "29  915 CID Diesel Signature 600, ISX, AHD Cummins        399\n",
              "30                      660 CID Diesel ISM Cummins        408\n",
              "31         Cummins, ISL HPCR, Diesel, 6 Cyl., 8.9L        428\n",
              "32                     5.9L I-6 Diesel Cummins ISB        712"
            ]
          },
          "metadata": {
            "tags": []
          },
          "execution_count": 22
        }
      ]
    },
    {
      "cell_type": "markdown",
      "metadata": {
        "id": "HesAyPxAxTuc",
        "colab_type": "text"
      },
      "source": [
        "It's worth noting that **Diesel engines** are predominantly affected which indicates that this issue likely stems from a firmware issue with decoding data from diesel engines.\n",
        "\n",
        "Additionally, if a certain Vin is found to have this problem, there is no instance of that Vin ever *not* having that problem. It persists until 2018-01-01, which is as far back as the data currently goes. \n",
        "\n",
        "However, if a certain HardwareId is found to have this problem, there are some instances where it may not have this problem, *depending on the Vin it is associated with*. This further confirms the hypothesis that this issue stems from an inability to properly decode the data from certain diesel engines. "
      ]
    },
    {
      "cell_type": "markdown",
      "metadata": {
        "id": "kwm1sl6TyAfd",
        "colab_type": "text"
      },
      "source": [
        "### Breakdown by Year "
      ]
    },
    {
      "cell_type": "code",
      "metadata": {
        "id": "FQSrmNBjp_mS",
        "colab_type": "code",
        "colab": {}
      },
      "source": [
        "SQL = '''\n",
        "CREATE TEMP FUNCTION f_GeohashEncode(lat FLOAT64, lon FLOAT64, precision INT64)\n",
        "            RETURNS STRING\n",
        "           LANGUAGE js AS \"return Geohash.encode(lat, lon, precision);\"\n",
        "            OPTIONS (library=\"gs://geotab-udfs/bi_geohash.js\");\n",
        "\n",
        "with t_pull_temps as (\n",
        "   select ti.HardwareId, vd.Make, vd.Model, vd.Year, vd.Engine\n",
        "        , ti.DateTime, ti.Latitude, ti.Longitude, ti.Temperature, vh.Vin, DATETIME_TRUNC(cast (DateTime as DATETIME), Day) as Day\n",
        "     from (select HardwareId, Datetime, Latitude, Longitude, Value as Temperature\n",
        "             from `geotab-bigdata.InterpolatedData.Status`\n",
        "            where code = 53 and _partitiontime > '2019-05-01') ti \n",
        "     left outer join `geotab-bigdata.Vin.VinHistory` vh\n",
        "       on vh.HardwareId = ti.HardwareId\n",
        "      and (ti.DateTime between vh.DateFrom and vh.DateTo or (ti.DateTime >= vh.DateFrom and vh.DateTo is null))\n",
        "     left outer join `geotab-bigdata.Vin.VinDecode` vd\n",
        "       on vh.Vin = vd.Vin \n",
        ")\n",
        ", data as (\n",
        "    select Day, Make, Model, Year, Engine\n",
        "        , min(Temperature) as MinTemperature\n",
        "        , max(Temperature) as MaxTemperature\n",
        "        , count(1) as NumRecords\n",
        "        , array_agg(distinct HardwareId) as Devices\n",
        "        , count(distinct HardwareId) as NumDevices\n",
        "     from t_pull_temps\n",
        "    group by Day, Make, Model, Year, Engine\n",
        "    having  MinTemperature = MaxTemperature and NumDevices > 1 \n",
        ")\n",
        "\n",
        "select Year, sum(NumRecords) as NumBadRecordsPerMake \n",
        "  from data \n",
        " group by Year\n",
        "having NumBadRecordsPerMake > 10 \n",
        " order by Year\n",
        "'''\n",
        "df_year = client.query(SQL).to_dataframe()"
      ],
      "execution_count": 0,
      "outputs": []
    },
    {
      "cell_type": "code",
      "metadata": {
        "id": "JFc4QuUsyJ2U",
        "colab_type": "code",
        "outputId": "3d293c5c-7535-40d2-8275-eea936278258",
        "colab": {
          "base_uri": "https://localhost:8080/",
          "height": 200
        }
      },
      "source": [
        "df_year.tail()"
      ],
      "execution_count": 0,
      "outputs": [
        {
          "output_type": "execute_result",
          "data": {
            "text/html": [
              "<div>\n",
              "<style scoped>\n",
              "    .dataframe tbody tr th:only-of-type {\n",
              "        vertical-align: middle;\n",
              "    }\n",
              "\n",
              "    .dataframe tbody tr th {\n",
              "        vertical-align: top;\n",
              "    }\n",
              "\n",
              "    .dataframe thead th {\n",
              "        text-align: right;\n",
              "    }\n",
              "</style>\n",
              "<table border=\"1\" class=\"dataframe\">\n",
              "  <thead>\n",
              "    <tr style=\"text-align: right;\">\n",
              "      <th></th>\n",
              "      <th>Year</th>\n",
              "      <th>NumBadRecordsPerMake</th>\n",
              "    </tr>\n",
              "  </thead>\n",
              "  <tbody>\n",
              "    <tr>\n",
              "      <th>17</th>\n",
              "      <td>2016</td>\n",
              "      <td>5072</td>\n",
              "    </tr>\n",
              "    <tr>\n",
              "      <th>18</th>\n",
              "      <td>2017</td>\n",
              "      <td>581</td>\n",
              "    </tr>\n",
              "    <tr>\n",
              "      <th>19</th>\n",
              "      <td>2018</td>\n",
              "      <td>186</td>\n",
              "    </tr>\n",
              "    <tr>\n",
              "      <th>20</th>\n",
              "      <td>2019</td>\n",
              "      <td>66989</td>\n",
              "    </tr>\n",
              "    <tr>\n",
              "      <th>21</th>\n",
              "      <td>2020</td>\n",
              "      <td>57958</td>\n",
              "    </tr>\n",
              "  </tbody>\n",
              "</table>\n",
              "</div>"
            ],
            "text/plain": [
              "    Year  NumBadRecordsPerMake\n",
              "17  2016                  5072\n",
              "18  2017                   581\n",
              "19  2018                   186\n",
              "20  2019                 66989\n",
              "21  2020                 57958"
            ]
          },
          "metadata": {
            "tags": []
          },
          "execution_count": 9
        }
      ]
    },
    {
      "cell_type": "code",
      "metadata": {
        "id": "Lnlh19djyMCZ",
        "colab_type": "code",
        "outputId": "ae513ac5-3e00-45fc-d9c3-13a2a1dc2bec",
        "colab": {
          "base_uri": "https://localhost:8080/",
          "height": 654
        }
      },
      "source": [
        "ax = df_year.plot.bar(x='Year', y='NumBadRecordsPerMake', rot=0)\n",
        "plt.xticks(rotation=90)\n",
        "plt.title('Vehicle Year vs Number Bad Data Events')\n",
        "plt.xlabel('Vehicle Year')\n",
        "plt.ylabel('Number of Bad Data Events')"
      ],
      "execution_count": 0,
      "outputs": [
        {
          "output_type": "execute_result",
          "data": {
            "text/plain": [
              "Text(0, 0.5, 'Number of Bad Data Events')"
            ]
          },
          "metadata": {
            "tags": []
          },
          "execution_count": 10
        },
        {
          "output_type": "display_data",
          "data": {
            "image/png": "[encoded data removed]",
            "text/plain": [
              "<Figure size 864x720 with 1 Axes>"
            ]
          },
          "metadata": {
            "tags": []
          }
        }
      ]
    },
    {
      "cell_type": "markdown",
      "metadata": {
        "id": "Y98u4AdGy7vC",
        "colab_type": "text"
      },
      "source": [
        "The issue seems to affect certain years (2005-2007, 2012) disproportionaly more than later years. "
      ]
    },
    {
      "cell_type": "markdown",
      "metadata": {
        "id": "FntF7_FZbAr2",
        "colab_type": "text"
      },
      "source": [
        "### List of All Problematic Devices: "
      ]
    },
    {
      "cell_type": "code",
      "metadata": {
        "id": "_t5DQG20a_lK",
        "colab_type": "code",
        "colab": {}
      },
      "source": [
        "SQL = '''\n",
        "CREATE TEMP FUNCTION f_GeohashEncode(lat FLOAT64, lon FLOAT64, precision INT64)\n",
        "            RETURNS STRING\n",
        "           LANGUAGE js AS \"return Geohash.encode(lat, lon, precision);\"\n",
        "            OPTIONS (library=\"gs://geotab-udfs/bi_geohash.js\");\n",
        "\n",
        "with t_pull_temps as (\n",
        "   select ti.HardwareId, vd.Make, vd.Model, vd.Year, vd.Engine\n",
        "        , ti.DateTime, ti.Latitude, ti.Longitude, ti.Temperature, vh.Vin, DATETIME_TRUNC(cast (DateTime as DATETIME), Day) as Day\n",
        "     from (select HardwareId, Datetime, Latitude, Longitude, Value as Temperature\n",
        "             from `geotab-bigdata.InterpolatedData.Status`\n",
        "            where code = 53 and _partitiontime = '2019-01-01') ti \n",
        "     left outer join `geotab-bigdata.Vin.VinHistory` vh\n",
        "       on vh.HardwareId = ti.HardwareId\n",
        "      and (ti.DateTime between vh.DateFrom and vh.DateTo or (ti.DateTime >= vh.DateFrom and vh.DateTo is null))\n",
        "     left outer join `geotab-bigdata.Vin.VinDecode` vd\n",
        "       on vh.Vin = vd.Vin \n",
        ")\n",
        ", data as (\n",
        "    select Make, Model, Year, Engine\n",
        "        , min(Temperature) as MinTemperature\n",
        "        , max(Temperature) as MaxTemperature\n",
        "        , count(1) as NumRecords\n",
        "        , array_agg(distinct HardwareId) as Devices\n",
        "        , count(distinct HardwareId) as NumDevices\n",
        "     from t_pull_temps\n",
        "    group by Make, Model, Year, Engine\n",
        "    having  MinTemperature = MaxTemperature and NumDevices > 1 and NumRecords > 1 \n",
        ")\n",
        "select distinct Problematic_HardwareId\n",
        "  from data \n",
        " cross join unnest(Devices) as Problematic_HardwareId \n",
        " order by Problematic_HardwareId\n",
        "'''"
      ],
      "execution_count": 0,
      "outputs": []
    },
    {
      "cell_type": "code",
      "metadata": {
        "id": "RtIFDL_2M4vP",
        "colab_type": "code",
        "colab": {}
      },
      "source": [
        "df_devices = client.query(SQL).to_dataframe()"
      ],
      "execution_count": 0,
      "outputs": []
    },
    {
      "cell_type": "code",
      "metadata": {
        "id": "-fl9fE_rbe7v",
        "colab_type": "code",
        "outputId": "f504de1f-abb8-4c7b-b069-b042d3a13255",
        "colab": {
          "base_uri": "https://localhost:8080/",
          "height": 200
        }
      },
      "source": [
        "df_devices.head()"
      ],
      "execution_count": 0,
      "outputs": [
        {
          "output_type": "execute_result",
          "data": {
            "text/html": [
              "<div>\n",
              "<style scoped>\n",
              "    .dataframe tbody tr th:only-of-type {\n",
              "        vertical-align: middle;\n",
              "    }\n",
              "\n",
              "    .dataframe tbody tr th {\n",
              "        vertical-align: top;\n",
              "    }\n",
              "\n",
              "    .dataframe thead th {\n",
              "        text-align: right;\n",
              "    }\n",
              "</style>\n",
              "<table border=\"1\" class=\"dataframe\">\n",
              "  <thead>\n",
              "    <tr style=\"text-align: right;\">\n",
              "      <th></th>\n",
              "      <th>Problematic_HardwareId</th>\n",
              "    </tr>\n",
              "  </thead>\n",
              "  <tbody>\n",
              "    <tr>\n",
              "      <th>0</th>\n",
              "      <td>550201090</td>\n",
              "    </tr>\n",
              "    <tr>\n",
              "      <th>1</th>\n",
              "      <td>550201108</td>\n",
              "    </tr>\n",
              "    <tr>\n",
              "      <th>2</th>\n",
              "      <td>550201335</td>\n",
              "    </tr>\n",
              "    <tr>\n",
              "      <th>3</th>\n",
              "      <td>550201349</td>\n",
              "    </tr>\n",
              "    <tr>\n",
              "      <th>4</th>\n",
              "      <td>550201396</td>\n",
              "    </tr>\n",
              "  </tbody>\n",
              "</table>\n",
              "</div>"
            ],
            "text/plain": [
              "   Problematic_HardwareId\n",
              "0               550201090\n",
              "1               550201108\n",
              "2               550201335\n",
              "3               550201349\n",
              "4               550201396"
            ]
          },
          "metadata": {
            "tags": []
          },
          "execution_count": 44
        }
      ]
    },
    {
      "cell_type": "code",
      "metadata": {
        "id": "8pqSwBW5b3Mc",
        "colab_type": "code",
        "colab": {}
      },
      "source": [
        ""
      ],
      "execution_count": 0,
      "outputs": []
    }
  ]
}